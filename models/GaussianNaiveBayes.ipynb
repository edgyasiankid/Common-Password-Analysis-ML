{
  "nbformat": 4,
  "nbformat_minor": 0,
  "metadata": {
    "colab": {
      "provenance": []
    },
    "kernelspec": {
      "name": "python3",
      "display_name": "Python 3"
    },
    "language_info": {
      "name": "python"
    }
  },
  "cells": [
    {
      "cell_type": "code",
      "execution_count": 1,
      "metadata": {
        "id": "0WzL3afLwNdr"
      },
      "outputs": [],
      "source": [
        "import pandas as pd\n",
        "from sklearn.preprocessing import LabelEncoder\n",
        "from sklearn.naive_bayes import GaussianNB\n",
        "from sklearn.metrics import classification_report, confusion_matrix\n",
        "\n",
        "train_df = pd.read_csv('training-password-data.csv')\n",
        "test_df  = pd.read_csv('testing-password-data.csv')\n",
        "\n",
        "X_train = train_df.drop(columns=['strength'])\n",
        "y_train = train_df['strength'].astype(str)\n",
        "X_test  = test_df.drop(columns=['strength'])\n",
        "y_test  = test_df['strength'].astype(str)\n",
        "\n",
        "X_train = pd.get_dummies(X_train)\n",
        "X_test  = pd.get_dummies(X_test).reindex(columns=X_train.columns, fill_value=0)\n",
        "\n",
        "le = LabelEncoder().fit(y_train)\n",
        "\n",
        "nb = GaussianNB()\n",
        "nb.fit(X_train, y_train)\n",
        "\n",
        "y_pred = nb.predict(X_test)\n"
      ]
    },
    {
      "cell_type": "code",
      "source": [
        "total      = len(y_test)\n",
        "correct    = (y_pred == y_test).sum()\n",
        "incorrect  = total - correct\n",
        "pct_corr   = correct   / total * 100\n",
        "pct_incorr = incorrect / total * 100\n",
        "\n",
        "y_true_int = le.transform(y_test)\n",
        "y_pred_int = le.transform(y_pred)\n",
        "\n",
        "from sklearn.metrics import (\n",
        "    cohen_kappa_score,\n",
        "    mean_absolute_error,\n",
        "    mean_squared_error\n",
        ")\n",
        "import numpy as np\n",
        "\n",
        "kappa = cohen_kappa_score(y_test, y_pred)\n",
        "mae   = mean_absolute_error(y_true_int, y_pred_int)\n",
        "rmse  = np.sqrt(mean_squared_error(y_true_int, y_pred_int))\n",
        "\n",
        "mean_true = np.mean(y_true_int)\n",
        "rae  = mae  / np.mean(np.abs(y_true_int - mean_true))\n",
        "rrse = rmse / np.sqrt(np.mean((y_true_int - mean_true)**2))\n",
        "\n",
        "print(\"=== Summary ===\")\n",
        "print(f\"Correctly Classified Instances   {correct}   {pct_corr:.4f} %\")\n",
        "print(f\"Incorrectly Classified Instances {incorrect}   {pct_incorr:.4f} %\")\n",
        "print(f\"Kappa statistic                  {kappa:.3f}\")\n",
        "print(f\"Mean absolute error              {mae:.4f}\")\n",
        "print(f\"Root mean squared error          {rmse:.4f}\")\n",
        "print(f\"Relative absolute error          {rae:.4f}\")\n",
        "print(f\"Root relative squared error      {rrse:.4f}\")\n",
        "print(f\"Total Number of Instances        {total}\")\n",
        "\n",
        "print(\"\\n=== Detailed Accuracy By Class ===\")\n",
        "print(classification_report(y_test, y_pred, digits=4))\n",
        "\n",
        "print(\"=== Confusion Matrix ===\")\n",
        "cm = confusion_matrix(y_test, y_pred, labels=le.classes_)\n",
        "print(pd.DataFrame(\n",
        "    cm,\n",
        "    index=[f\"actual={c}\" for c in le.classes_],\n",
        "    columns=[f\"pred={c}\"   for c in le.classes_]\n",
        "))\n"
      ],
      "metadata": {
        "colab": {
          "base_uri": "https://localhost:8080/"
        },
        "id": "SFBo21KdwsRI",
        "outputId": "7fb724a6-9a60-45f5-80cb-70273b565be3"
      },
      "execution_count": 2,
      "outputs": [
        {
          "output_type": "stream",
          "name": "stdout",
          "text": [
            "=== Summary ===\n",
            "Correctly Classified Instances   423831   79.7469 %\n",
            "Incorrectly Classified Instances 107639   20.2531 %\n",
            "Kappa statistic                  0.530\n",
            "Mean absolute error              0.2030\n",
            "Root mean squared error          0.4516\n",
            "Relative absolute error          0.7640\n",
            "Root relative squared error      0.8956\n",
            "Total Number of Instances        531470\n",
            "\n",
            "=== Detailed Accuracy By Class ===\n",
            "              precision    recall  f1-score   support\n",
            "\n",
            "           0     0.9945    0.3550    0.5232     71711\n",
            "           1     0.8792    0.8451    0.8618    396208\n",
            "           2     0.5082    1.0000    0.6739     63551\n",
            "\n",
            "    accuracy                         0.7975    531470\n",
            "   macro avg     0.7940    0.7333    0.6863    531470\n",
            "weighted avg     0.8504    0.7975    0.7937    531470\n",
            "\n",
            "=== Confusion Matrix ===\n",
            "          pred=0  pred=1  pred=2\n",
            "actual=0   25457   46000     254\n",
            "actual=1     140  334824   61244\n",
            "actual=2       0       1   63550\n"
          ]
        }
      ]
    }
  ]
}