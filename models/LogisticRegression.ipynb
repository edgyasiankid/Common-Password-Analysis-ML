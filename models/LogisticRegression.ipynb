{
  "nbformat": 4,
  "nbformat_minor": 0,
  "metadata": {
    "colab": {
      "provenance": []
    },
    "kernelspec": {
      "name": "python3",
      "display_name": "Python 3"
    },
    "language_info": {
      "name": "python"
    }
  },
  "cells": [
    {
      "cell_type": "code",
      "execution_count": 2,
      "metadata": {
        "colab": {
          "base_uri": "https://localhost:8080/"
        },
        "id": "Z7Q3-3abyJ_P",
        "outputId": "b6818996-7062-4e65-c23d-dc6382c4160c"
      },
      "outputs": [
        {
          "output_type": "stream",
          "name": "stderr",
          "text": [
            "/usr/local/lib/python3.11/dist-packages/sklearn/linear_model/_logistic.py:1247: FutureWarning: 'multi_class' was deprecated in version 1.5 and will be removed in 1.7. From then on, it will always use 'multinomial'. Leave it to its default value to avoid this warning.\n",
            "  warnings.warn(\n"
          ]
        }
      ],
      "source": [
        "import pandas as pd\n",
        "import numpy as np\n",
        "from sklearn.preprocessing import StandardScaler, LabelEncoder\n",
        "from sklearn.linear_model import LogisticRegression\n",
        "from sklearn.metrics import cohen_kappa_score, mean_absolute_error, mean_squared_error\n",
        "from sklearn.metrics import classification_report, confusion_matrix\n",
        "\n",
        "train_df = pd.read_csv('training-password-data.csv')\n",
        "test_df  = pd.read_csv('testing-password-data.csv')\n",
        "\n",
        "X_train = train_df.drop(columns=['strength'])\n",
        "y_train = train_df['strength'].astype(str)\n",
        "X_test  = test_df.drop(columns=['strength'])\n",
        "y_test  = test_df['strength'].astype(str)\n",
        "\n",
        "X_train = pd.get_dummies(X_train)\n",
        "X_test  = pd.get_dummies(X_test).reindex(columns=X_train.columns, fill_value=0)\n",
        "\n",
        "scaler = StandardScaler()\n",
        "X_train_scaled = scaler.fit_transform(X_train)\n",
        "X_test_scaled  = scaler.transform(X_test)\n",
        "\n",
        "le = LabelEncoder().fit(y_train)\n",
        "\n",
        "logreg = LogisticRegression(\n",
        "    penalty='l2',\n",
        "    C=1e8,\n",
        "    solver='lbfgs',\n",
        "    multi_class='multinomial',\n",
        "    max_iter=1000,\n",
        "    random_state=0\n",
        ")\n",
        "logreg.fit(X_train_scaled, y_train)\n",
        "\n",
        "y_pred = logreg.predict(X_test_scaled)\n"
      ]
    },
    {
      "cell_type": "code",
      "source": [
        "total      = len(y_test)\n",
        "correct    = (y_pred == y_test).sum()\n",
        "incorrect  = total - correct\n",
        "pct_corr   = correct   / total * 100\n",
        "pct_incorr = incorrect / total * 100\n",
        "\n",
        "y_true_int = le.transform(y_test)\n",
        "y_pred_int = le.transform(y_pred)\n",
        "\n",
        "kappa = cohen_kappa_score(y_test, y_pred)\n",
        "mae   = mean_absolute_error(y_true_int, y_pred_int)\n",
        "rmse  = np.sqrt(mean_squared_error(y_true_int, y_pred_int))\n",
        "\n",
        "mean_true = np.mean(y_true_int)\n",
        "rae  = mae  / np.mean(np.abs(y_true_int - mean_true))\n",
        "rrse = rmse / np.sqrt(np.mean((y_true_int - mean_true)**2))\n",
        "\n",
        "print(\"=== Summary ===\")\n",
        "print(f\"Correctly Classified Instances   {correct}   {pct_corr:.4f} %\")\n",
        "print(f\"Incorrectly Classified Instances {incorrect}   {pct_incorr:.4f} %\")\n",
        "print(f\"Kappa statistic                  {kappa:.3f}\")\n",
        "print(f\"Mean absolute error              {mae:.4f}\")\n",
        "print(f\"Root mean squared error          {rmse:.4f}\")\n",
        "print(f\"Relative absolute error          {rae:.4f}\")\n",
        "print(f\"Root relative squared error      {rrse:.4f}\")\n",
        "print(f\"Total Number of Instances        {total}\")\n",
        "\n",
        "print(\"\\n=== Detailed Accuracy By Class ===\")\n",
        "print(classification_report(y_test, y_pred, digits=4))\n",
        "\n",
        "print(\"=== Confusion Matrix ===\")\n",
        "cm = confusion_matrix(y_test, y_pred, labels=le.classes_)\n",
        "print(pd.DataFrame(\n",
        "    cm,\n",
        "    index=[f\"actual={c}\" for c in le.classes_],\n",
        "    columns=[f\"pred={c}\" for c in le.classes_]\n",
        "))\n"
      ],
      "metadata": {
        "colab": {
          "base_uri": "https://localhost:8080/"
        },
        "id": "uH_KxvSQzFs-",
        "outputId": "8f1a6179-b560-4b48-fabc-4cb1c16992b6"
      },
      "execution_count": 3,
      "outputs": [
        {
          "output_type": "stream",
          "name": "stdout",
          "text": [
            "=== Summary ===\n",
            "Correctly Classified Instances   531310   99.9699 %\n",
            "Incorrectly Classified Instances 160   0.0301 %\n",
            "Kappa statistic                  0.999\n",
            "Mean absolute error              0.0003\n",
            "Root mean squared error          0.0174\n",
            "Relative absolute error          0.0011\n",
            "Root relative squared error      0.0344\n",
            "Total Number of Instances        531470\n",
            "\n",
            "=== Detailed Accuracy By Class ===\n",
            "              precision    recall  f1-score   support\n",
            "\n",
            "           0     0.9993    0.9990    0.9991     71711\n",
            "           1     0.9998    0.9998    0.9998    396208\n",
            "           2     0.9995    1.0000    0.9997     63551\n",
            "\n",
            "    accuracy                         0.9997    531470\n",
            "   macro avg     0.9995    0.9996    0.9996    531470\n",
            "weighted avg     0.9997    0.9997    0.9997    531470\n",
            "\n",
            "=== Confusion Matrix ===\n",
            "          pred=0  pred=1  pred=2\n",
            "actual=0   71637      74       0\n",
            "actual=1      51  396125      32\n",
            "actual=2       0       3   63548\n"
          ]
        }
      ]
    }
  ]
}